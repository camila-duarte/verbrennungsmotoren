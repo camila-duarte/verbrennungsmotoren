{
 "cells": [
  {
   "cell_type": "code",
   "execution_count": 6,
   "id": "initial_id",
   "metadata": {
    "ExecuteTime": {
     "end_time": "2024-01-17T11:13:54.095551Z",
     "start_time": "2024-01-17T11:13:53.983337Z"
    },
    "collapsed": true
   },
   "outputs": [],
   "source": [
    "import math\n",
    "import scipy.constants as con"
   ]
  },
  {
   "cell_type": "code",
   "execution_count": 7,
   "id": "59012ca5c60cb676",
   "metadata": {
    "ExecuteTime": {
     "end_time": "2024-01-17T11:13:54.100555Z",
     "start_time": "2024-01-17T11:13:54.096613Z"
    },
    "collapsed": false
   },
   "outputs": [],
   "source": [
    "# Konstanten\n",
    "cw = 0.31\n",
    "A = 2.4 #m^2\n",
    "m = 1270 #kg\n",
    "a = 0 #rad\n",
    "rho = 1.225 # Luftdichte\n",
    "c_rot =0\n",
    "acc = 0 #(Beschleunigung)"
   ]
  },
  {
   "cell_type": "code",
   "execution_count": 8,
   "id": "59c0967f091f781",
   "metadata": {
    "ExecuteTime": {
     "end_time": "2024-01-17T11:13:54.104277Z",
     "start_time": "2024-01-17T11:13:54.099821Z"
    },
    "collapsed": false
   },
   "outputs": [],
   "source": [
    "def f(pV):\n",
    "    return 0.01 #hier eine Näherung"
   ]
  },
  {
   "cell_type": "code",
   "execution_count": 9,
   "id": "30e0e3dae9442ad",
   "metadata": {
    "ExecuteTime": {
     "end_time": "2024-01-17T11:13:54.107878Z",
     "start_time": "2024-01-17T11:13:54.103572Z"
    },
    "collapsed": false
   },
   "outputs": [],
   "source": [
    "def widerstand(pV): # pV in kmh\n",
    "    v = pV /3.6\n",
    "    f_st = m * con.g *math.sin(a)\n",
    "    f_r = m * con.g *f(v) *math.cos(a)\n",
    "    f_l = (rho/2) * cw * A * (v**2)\n",
    "    f_a = (1 + c_rot) * m * acc\n",
    "    return f_st + f_r +f_l + f_a"
   ]
  },
  {
   "cell_type": "code",
   "execution_count": 10,
   "id": "5163ed0bbc077e01",
   "metadata": {
    "ExecuteTime": {
     "end_time": "2024-01-17T11:13:54.112499Z",
     "start_time": "2024-01-17T11:13:54.108689Z"
    },
    "collapsed": false
   },
   "outputs": [
    {
     "name": "stdout",
     "output_type": "stream",
     "text": [
      "Für 40 kmh :  180.80371425925927 N\n",
      "Für 180 kmh :  1263.794455 N\n"
     ]
    }
   ],
   "source": [
    "print(\"Für 40 kmh : \", widerstand(40),\"N\")\n",
    "print(\"Für 180 kmh : \", widerstand(180),\"N\")"
   ]
  },
  {
   "cell_type": "code",
   "execution_count": 11,
   "id": "166a138aefcbb67a",
   "metadata": {
    "ExecuteTime": {
     "end_time": "2024-01-17T11:13:54.116496Z",
     "start_time": "2024-01-17T11:13:54.111056Z"
    },
    "collapsed": false
   },
   "outputs": [
    {
     "name": "stdout",
     "output_type": "stream",
     "text": [
      "Für 40 kmh :  2008.9301584362142 W\n",
      "Für 180 kmh :  63189.72275 W\n"
     ]
    }
   ],
   "source": [
    "print(\"Für 40 kmh : \",widerstand(40)*40/3.6, \"W\") # Leistung\n",
    "print(\"Für 180 kmh : \",widerstand(180)*180/3.6, \"W\")"
   ]
  }
 ],
 "metadata": {
  "kernelspec": {
   "display_name": "Python 3",
   "language": "python",
   "name": "python3"
  },
  "language_info": {
   "codemirror_mode": {
    "name": "ipython",
    "version": 3
   },
   "file_extension": ".py",
   "mimetype": "text/x-python",
   "name": "python",
   "nbconvert_exporter": "python",
   "pygments_lexer": "ipython3",
   "version": "3.10.12"
  }
 },
 "nbformat": 4,
 "nbformat_minor": 5
}
