{
 "cells": [
  {
   "cell_type": "code",
   "execution_count": 1,
   "id": "initial_id",
   "metadata": {
    "collapsed": true,
    "ExecuteTime": {
     "end_time": "2024-01-17T11:13:54.095551Z",
     "start_time": "2024-01-17T11:13:53.983337Z"
    }
   },
   "outputs": [],
   "source": [
    "import math\n",
    "import scipy.constants as con"
   ]
  },
  {
   "cell_type": "code",
   "execution_count": 2,
   "outputs": [],
   "source": [
    "# Konstanten\n",
    "cw = 0.31\n",
    "A = 2.4 #m^2\n",
    "m = 1270 #kg\n",
    "a = 0 #rad\n",
    "rho = 1.225 # Luftdichte\n",
    "c_rot =0\n",
    "acc = 0 #(Beschleunigung)"
   ],
   "metadata": {
    "collapsed": false,
    "ExecuteTime": {
     "end_time": "2024-01-17T11:13:54.100555Z",
     "start_time": "2024-01-17T11:13:54.096613Z"
    }
   },
   "id": "59012ca5c60cb676"
  },
  {
   "cell_type": "code",
   "execution_count": 3,
   "outputs": [],
   "source": [
    "def f(pV):\n",
    "    return 0.01 #hier eine Näherung"
   ],
   "metadata": {
    "collapsed": false,
    "ExecuteTime": {
     "end_time": "2024-01-17T11:13:54.104277Z",
     "start_time": "2024-01-17T11:13:54.099821Z"
    }
   },
   "id": "59c0967f091f781"
  },
  {
   "cell_type": "code",
   "execution_count": 4,
   "outputs": [],
   "source": [
    "def widerstand(pV): # pV in kmh\n",
    "    v = pV /3.6\n",
    "    f_st = m * con.g *math.sin(a)\n",
    "    f_r = m * con.g *f(v) *math.cos(a)\n",
    "    f_l = (rho/2) * cw * A * (v**2)\n",
    "    f_a = (1 + c_rot) * m * acc\n",
    "    return f_st + f_r +f_l + f_a"
   ],
   "metadata": {
    "collapsed": false,
    "ExecuteTime": {
     "end_time": "2024-01-17T11:13:54.107878Z",
     "start_time": "2024-01-17T11:13:54.103572Z"
    }
   },
   "id": "30e0e3dae9442ad"
  },
  {
   "cell_type": "code",
   "execution_count": 5,
   "outputs": [
    {
     "name": "stdout",
     "output_type": "stream",
     "text": [
      "Für 40 kmh :  180.80371425925927 N\n",
      "Für 180 kmh :  1263.794455 N\n"
     ]
    }
   ],
   "source": [
    "print(\"Für 40 kmh : \", widerstand(40),\"N\")\n",
    "print(\"Für 180 kmh : \", widerstand(180),\"N\")"
   ],
   "metadata": {
    "collapsed": false,
    "ExecuteTime": {
     "end_time": "2024-01-17T11:13:54.112499Z",
     "start_time": "2024-01-17T11:13:54.108689Z"
    }
   },
   "id": "5163ed0bbc077e01"
  },
  {
   "cell_type": "code",
   "execution_count": 6,
   "outputs": [
    {
     "name": "stdout",
     "output_type": "stream",
     "text": [
      "Für 40 kmh :  2008.9301584362142 W\n",
      "Für 180 kmh :  63189.72275 W\n"
     ]
    }
   ],
   "source": [
    "print(\"Für 40 kmh : \",widerstand(40)*40/3.6, \"W\") # Leistung\n",
    "print(\"Für 180 kmh : \",widerstand(180)*180/3.6, \"W\")"
   ],
   "metadata": {
    "collapsed": false,
    "ExecuteTime": {
     "end_time": "2024-01-17T11:13:54.116496Z",
     "start_time": "2024-01-17T11:13:54.111056Z"
    }
   },
   "id": "166a138aefcbb67a"
  }
 ],
 "metadata": {
  "kernelspec": {
   "display_name": "Python 3",
   "language": "python",
   "name": "python3"
  },
  "language_info": {
   "codemirror_mode": {
    "name": "ipython",
    "version": 2
   },
   "file_extension": ".py",
   "mimetype": "text/x-python",
   "name": "python",
   "nbconvert_exporter": "python",
   "pygments_lexer": "ipython2",
   "version": "2.7.6"
  }
 },
 "nbformat": 4,
 "nbformat_minor": 5
}
