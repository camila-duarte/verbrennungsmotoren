{
 "cells": [
  {
   "cell_type": "markdown",
   "metadata": {},
   "source": [
    "* idleX.csv refers to the vehicle in the IDLE mode\n",
    "\n",
    "* driveX.csv refers to the vehicle in motion mode in high speed roads\n",
    "\n",
    "* liveX.csv refers to the vehicle in a specific traject (work --> home)\n",
    "\n",
    "* ufpeX.csv refers to the vehicle in motion mode inside an university campus (low speed)\n",
    "\n",
    "* longX.csv refers to long trips with the vehicle in motion mode."
   ]
  },
  {
   "cell_type": "code",
   "execution_count": null,
   "metadata": {},
   "outputs": [],
   "source": []
  }
 ],
 "metadata": {
  "language_info": {
   "name": "python"
  }
 },
 "nbformat": 4,
 "nbformat_minor": 2
}
