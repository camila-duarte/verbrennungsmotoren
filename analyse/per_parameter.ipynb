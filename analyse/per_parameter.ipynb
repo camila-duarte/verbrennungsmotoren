{
 "cells": [
  {
   "cell_type": "markdown",
   "metadata": {},
   "source": [
    "* idleX.csv refers to the vehicle in the IDLE mode\n",
    "\n",
    "* driveX.csv refers to the vehicle in motion mode in high speed roads\n",
    "\n",
    "* liveX.csv refers to the vehicle in a specific traject (work --> home)\n",
    "\n",
    "* ufpeX.csv refers to the vehicle in motion mode inside an university campus (low speed)\n",
    "\n",
    "* longX.csv refers to long trips with the vehicle in motion mode."
   ]
  },
  {
   "cell_type": "code",
   "execution_count": 1,
   "metadata": {},
   "outputs": [],
   "source": [
    "# importing of libaries\n",
    "import numpy as np                      #functions for scientific computing, faster arrays\n",
    "import pandas as pd                     #easy import and export of data, fast and easy-to-use datastructure\n",
    "import math                             #mathematical functions\n",
    "import matplotlib.pyplot as plt         #generation of Graphs\n",
    "from scipy.constants import pi, g       #fundamental Constants"
   ]
  },
  {
   "cell_type": "code",
   "execution_count": 15,
   "metadata": {},
   "outputs": [
    {
     "name": "stdout",
     "output_type": "stream",
     "text": [
      "0.0       17.647058\n",
      "0.0       17.647058\n",
      "0.0       17.647058\n",
      "0.0       17.647058\n",
      "0.0       17.254902\n",
      "            ...    \n",
      "1328.0    15.686275\n",
      "1328.0    15.686275\n",
      "1330.0    15.686275\n",
      "1330.0    15.686275\n",
      "1330.0    15.686275\n",
      "Name: VEHICLE_SPEED (), Length: 2709, dtype: float64\n"
     ]
    }
   ],
   "source": [
    "path_data_drive1 = '/home/cami/Desktop/verbrennungsmotoren/data/drive1.csv'\n",
    "\n",
    "\n",
    "\n",
    "data_drive1 = pd.read_csv(path_data_drive1)\n",
    "\n",
    "\n",
    "speed_data = data_drive1['VEHICLE_SPEED ()']\n",
    "print(speed_data)"
   ]
  }
 ],
 "metadata": {
  "kernelspec": {
   "display_name": "Python 3",
   "language": "python",
   "name": "python3"
  },
  "language_info": {
   "codemirror_mode": {
    "name": "ipython",
    "version": 3
   },
   "file_extension": ".py",
   "mimetype": "text/x-python",
   "name": "python",
   "nbconvert_exporter": "python",
   "pygments_lexer": "ipython3",
   "version": "3.10.12"
  }
 },
 "nbformat": 4,
 "nbformat_minor": 2
}
