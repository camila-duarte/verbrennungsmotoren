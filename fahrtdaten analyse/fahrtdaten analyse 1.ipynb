{
 "cells": [
  {
   "cell_type": "markdown",
   "metadata": {},
   "source": [
    "* idleX.csv refers to the vehicle in the IDLE mode\n",
    "\n",
    "* driveX.csv refers to the vehicle in motion mode in high speed roads\n",
    "\n",
    "* liveX.csv refers to the vehicle in a specific traject (work --> home)\n",
    "\n",
    "* ufpeX.csv refers to the vehicle in motion mode inside an university campus (low speed)\n",
    "\n",
    "* longX.csv refers to long trips with the vehicle in motion mode."
   ]
  },
  {
   "cell_type": "code",
   "execution_count": 3,
   "id": "initial_id",
   "metadata": {
    "collapsed": true
   },
   "outputs": [],
   "source": [
    "# importing of libaries\n",
    "import numpy as np                      #functions for scientific computing, faster arrays\n",
    "import pandas as pd                     #easy import and export of data, fast and easy-to-use datastructure\n",
    "import math                             #mathematical functions\n",
    "import matplotlib.pyplot as plt         #generation of Graphs\n",
    "from scipy.constants import pi, g       #fundamental Constants"
   ]
  },
  {
   "cell_type": "code",
   "execution_count": null,
   "id": "b84a4f330d60a3da",
   "metadata": {
    "collapsed": false
   },
   "outputs": [],
   "source": [
    "# Constants\n"
   ]
  },
  {
   "cell_type": "code",
   "execution_count": null,
   "id": "9e802197dc0cc0df",
   "metadata": {
    "collapsed": false
   },
   "outputs": [],
   "source": [
    "# Data Import"
   ]
  },
  {
   "cell_type": "code",
   "execution_count": null,
   "id": "535bca2b49a03e83",
   "metadata": {
    "collapsed": false
   },
   "outputs": [],
   "source": [
    "# generation of testing data"
   ]
  }
 ],
 "metadata": {
  "kernelspec": {
   "display_name": "Python 3",
   "language": "python",
   "name": "python3"
  },
  "language_info": {
   "codemirror_mode": {
    "name": "ipython",
    "version": 3
   },
   "file_extension": ".py",
   "mimetype": "text/x-python",
   "name": "python",
   "nbconvert_exporter": "python",
   "pygments_lexer": "ipython3",
   "version": "3.10.12"
  }
 },
 "nbformat": 4,
 "nbformat_minor": 5
}
