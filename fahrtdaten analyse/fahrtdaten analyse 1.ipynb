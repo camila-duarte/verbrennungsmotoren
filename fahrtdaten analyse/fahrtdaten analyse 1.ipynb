{
 "cells": [
  {
   "cell_type": "code",
   "execution_count": null,
   "id": "initial_id",
   "metadata": {
    "collapsed": true
   },
   "outputs": [],
   "source": [
    "# importing of libaries\n",
    "import numpy as np                      #functions for scientific computing, faster arrays\n",
    "import pandas as pd                     #easy import and export of data, fast and easy-to-use datastructure\n",
    "import math                             #mathematical functions\n",
    "import matplotlib.pyplot as plt         #generation of Graphs\n",
    "from scipy.constants import pi, g       #fundamental Constants"
   ]
  },
  {
   "cell_type": "code",
   "outputs": [],
   "source": [
    "# Constants\n"
   ],
   "metadata": {
    "collapsed": false
   },
   "id": "b84a4f330d60a3da"
  },
  {
   "cell_type": "code",
   "outputs": [],
   "source": [
    "# Data Import"
   ],
   "metadata": {
    "collapsed": false
   },
   "id": "9e802197dc0cc0df"
  },
  {
   "cell_type": "code",
   "outputs": [],
   "source": [
    "# generation of testing data"
   ],
   "metadata": {
    "collapsed": false
   },
   "id": "535bca2b49a03e83"
  }
 ],
 "metadata": {
  "kernelspec": {
   "display_name": "Python 3",
   "language": "python",
   "name": "python3"
  },
  "language_info": {
   "codemirror_mode": {
    "name": "ipython",
    "version": 2
   },
   "file_extension": ".py",
   "mimetype": "text/x-python",
   "name": "python",
   "nbconvert_exporter": "python",
   "pygments_lexer": "ipython2",
   "version": "2.7.6"
  }
 },
 "nbformat": 4,
 "nbformat_minor": 5
}
